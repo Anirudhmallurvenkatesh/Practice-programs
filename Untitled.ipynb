{
 "cells": [
  {
   "cell_type": "markdown",
   "metadata": {},
   "source": [
    "### 1.Write a program to demonstarate different number data types in python"
   ]
  },
  {
   "cell_type": "code",
   "execution_count": 1,
   "metadata": {},
   "outputs": [
    {
     "name": "stdout",
     "output_type": "stream",
     "text": [
      "a is the type <class 'int'>\n",
      "b is the type <class 'float'>\n",
      "c is the type <class 'complex'>\n"
     ]
    }
   ],
   "source": [
    "a= 23\n",
    "b = 11.3\n",
    "c = 3+5j\n",
    "print(\"a is the type\",type(a));\n",
    "print(\"b is the type\",type(b));\n",
    "print(\"c is the type\",type(c));"
   ]
  },
  {
   "cell_type": "markdown",
   "metadata": {},
   "source": [
    "### 2. Write a program to perform different arthametic operations"
   ]
  },
  {
   "cell_type": "code",
   "execution_count": 1,
   "metadata": {},
   "outputs": [
    {
     "name": "stdout",
     "output_type": "stream",
     "text": [
      "enter a number34\n",
      "enter b number23\n"
     ]
    }
   ],
   "source": [
    "a = int(input(\"enter a number\"))\n",
    "b = int(input(\"enter b number\"))"
   ]
  },
  {
   "cell_type": "code",
   "execution_count": 4,
   "metadata": {},
   "outputs": [
    {
     "name": "stdout",
     "output_type": "stream",
     "text": [
      "Add of a and b is 57\n",
      "sub of a and b is 11\n",
      "multiplication of a and b is 782\n",
      "div of a and b is 1.4782608695652173\n",
      "Remainder of a and b is 11\n",
      "float division of a and b is 1\n"
     ]
    }
   ],
   "source": [
    "print(\"Add of a and b is\",a+b)\n",
    "print(\"sub of a and b is\",a-b)\n",
    "print(\"multiplication of a and b is\",a*b)\n",
    "print(\"div of a and b is\",a/b)\n",
    "print(\"Remainder of a and b is\",a%b)\n",
    "print(\"float division of a and b is\",a//b)\n"
   ]
  },
  {
   "cell_type": "code",
   "execution_count": null,
   "metadata": {},
   "outputs": [],
   "source": []
  }
 ],
 "metadata": {
  "kernelspec": {
   "display_name": "Python 3",
   "language": "python",
   "name": "python3"
  },
  "language_info": {
   "codemirror_mode": {
    "name": "ipython",
    "version": 3
   },
   "file_extension": ".py",
   "mimetype": "text/x-python",
   "name": "python",
   "nbconvert_exporter": "python",
   "pygments_lexer": "ipython3",
   "version": "3.8.5"
  }
 },
 "nbformat": 4,
 "nbformat_minor": 4
}
