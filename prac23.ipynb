{
 "cells": [
  {
   "cell_type": "markdown",
   "metadata": {},
   "source": [
    "### program to convert decimal to binary,octal and hexadecimal"
   ]
  },
  {
   "cell_type": "code",
   "execution_count": 5,
   "metadata": {},
   "outputs": [],
   "source": [
    "dec = 225"
   ]
  },
  {
   "cell_type": "code",
   "execution_count": 6,
   "metadata": {},
   "outputs": [
    {
     "name": "stdout",
     "output_type": "stream",
     "text": [
      "the decimal value of  225 is:\n",
      "0b11100001 in binary\n",
      "0o341 in octal\n",
      "0xe1 in hexadecimal\n"
     ]
    }
   ],
   "source": [
    "print(\"the decimal value of \",dec,\"is:\")\n",
    "print(bin(dec),\"in binary\")\n",
    "print(oct(dec), \"in octal\")\n",
    "print(hex(dec),\"in hexadecimal\")"
   ]
  },
  {
   "cell_type": "code",
   "execution_count": null,
   "metadata": {},
   "outputs": [],
   "source": []
  }
 ],
 "metadata": {
  "kernelspec": {
   "display_name": "Python 3",
   "language": "python",
   "name": "python3"
  },
  "language_info": {
   "codemirror_mode": {
    "name": "ipython",
    "version": 3
   },
   "file_extension": ".py",
   "mimetype": "text/x-python",
   "name": "python",
   "nbconvert_exporter": "python",
   "pygments_lexer": "ipython3",
   "version": "3.8.5"
  }
 },
 "nbformat": 4,
 "nbformat_minor": 4
}
