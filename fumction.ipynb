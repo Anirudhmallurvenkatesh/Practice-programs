{
 "cells": [
  {
   "cell_type": "markdown",
   "metadata": {},
   "source": [
    "#### ex1"
   ]
  },
  {
   "cell_type": "code",
   "execution_count": 1,
   "metadata": {},
   "outputs": [],
   "source": [
    "tom_exp_list = [2100,3156,4673]\n",
    "joe_exp_list = [200,500,600]"
   ]
  },
  {
   "cell_type": "code",
   "execution_count": 2,
   "metadata": {},
   "outputs": [
    {
     "name": "stdout",
     "output_type": "stream",
     "text": [
      "Tom's total expenses: 9929\n"
     ]
    }
   ],
   "source": [
    "total = 0\n",
    "for item in tom_exp_list:\n",
    "    total =total+item\n",
    "print(\"Tom's total expenses:\",total)    "
   ]
  },
  {
   "cell_type": "code",
   "execution_count": 3,
   "metadata": {},
   "outputs": [
    {
     "name": "stdout",
     "output_type": "stream",
     "text": [
      "Joe's total expenses: 1300\n"
     ]
    }
   ],
   "source": [
    "total = 0\n",
    "for item in joe_exp_list:\n",
    "    total =total+item\n",
    "print(\"Joe's total expenses:\",total)"
   ]
  },
  {
   "cell_type": "markdown",
   "metadata": {},
   "source": [
    "#### we can also write it using function"
   ]
  },
  {
   "cell_type": "code",
   "execution_count": 8,
   "metadata": {},
   "outputs": [],
   "source": [
    "def calculate_total(exp):\n",
    "    total = 0\n",
    "    for item in exp:\n",
    "        total = total+item\n",
    "    return total\n",
    "    "
   ]
  },
  {
   "cell_type": "code",
   "execution_count": 9,
   "metadata": {},
   "outputs": [],
   "source": [
    "tom_exp_list = [2100,3156,4673]\n",
    "joe_exp_list = [200,500,600]"
   ]
  },
  {
   "cell_type": "code",
   "execution_count": 11,
   "metadata": {},
   "outputs": [],
   "source": [
    "toms_total = calculate_total(tom_exp_list)\n",
    "joes_total = calculate_total(joe_exp_list)"
   ]
  },
  {
   "cell_type": "code",
   "execution_count": 12,
   "metadata": {},
   "outputs": [
    {
     "name": "stdout",
     "output_type": "stream",
     "text": [
      "toms total expenses: 9929\n",
      "joes total expenses: 1300\n"
     ]
    }
   ],
   "source": [
    "print(\"toms total expenses:\",toms_total)\n",
    "print(\"joes total expenses:\",joes_total)"
   ]
  },
  {
   "cell_type": "markdown",
   "metadata": {},
   "source": [
    "#### ex2 sum of 2 numbers using function"
   ]
  },
  {
   "cell_type": "code",
   "execution_count": 13,
   "metadata": {},
   "outputs": [
    {
     "name": "stdout",
     "output_type": "stream",
     "text": [
      "Total: 11\n"
     ]
    }
   ],
   "source": [
    "def sum(a,b):\n",
    "    total = a+b\n",
    "    return total\n",
    "\n",
    "n = sum(5,6)\n",
    "print(\"Total:\",n)"
   ]
  },
  {
   "cell_type": "code",
   "execution_count": null,
   "metadata": {},
   "outputs": [],
   "source": []
  }
 ],
 "metadata": {
  "kernelspec": {
   "display_name": "Python 3",
   "language": "python",
   "name": "python3"
  },
  "language_info": {
   "codemirror_mode": {
    "name": "ipython",
    "version": 3
   },
   "file_extension": ".py",
   "mimetype": "text/x-python",
   "name": "python",
   "nbconvert_exporter": "python",
   "pygments_lexer": "ipython3",
   "version": "3.8.5"
  }
 },
 "nbformat": 4,
 "nbformat_minor": 4
}
