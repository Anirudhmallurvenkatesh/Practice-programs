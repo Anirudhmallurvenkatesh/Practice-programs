{
 "cells": [
  {
   "cell_type": "markdown",
   "metadata": {},
   "source": [
    "### Program to find the factors of a number"
   ]
  },
  {
   "cell_type": "code",
   "execution_count": 2,
   "metadata": {},
   "outputs": [
    {
     "name": "stdout",
     "output_type": "stream",
     "text": [
      "the factorss of  240 are:\n",
      "1\n",
      "2\n",
      "3\n",
      "4\n",
      "5\n",
      "6\n",
      "8\n",
      "10\n",
      "12\n",
      "15\n",
      "16\n",
      "20\n",
      "24\n",
      "30\n",
      "40\n",
      "48\n",
      "60\n",
      "80\n",
      "120\n",
      "240\n"
     ]
    }
   ],
   "source": [
    "def print_factors(x):\n",
    "    print(\"the factorss of \",x, \"are:\")\n",
    "    for i in range(1, x+1):\n",
    "        if x % i==0:\n",
    "            print(i)\n",
    "num= 240\n",
    "\n",
    "print_factors(num)"
   ]
  },
  {
   "cell_type": "code",
   "execution_count": null,
   "metadata": {},
   "outputs": [],
   "source": []
  }
 ],
 "metadata": {
  "kernelspec": {
   "display_name": "Python 3",
   "language": "python",
   "name": "python3"
  },
  "language_info": {
   "codemirror_mode": {
    "name": "ipython",
    "version": 3
   },
   "file_extension": ".py",
   "mimetype": "text/x-python",
   "name": "python",
   "nbconvert_exporter": "python",
   "pygments_lexer": "ipython3",
   "version": "3.8.5"
  }
 },
 "nbformat": 4,
 "nbformat_minor": 4
}
